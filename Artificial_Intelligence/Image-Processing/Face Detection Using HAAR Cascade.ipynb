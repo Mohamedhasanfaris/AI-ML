{
 "cells": [
  {
   "cell_type": "code",
   "execution_count": 1,
   "id": "3de41d63",
   "metadata": {},
   "outputs": [],
   "source": [
    "import cv2\n",
    "import numpy as np"
   ]
  },
  {
   "cell_type": "code",
   "execution_count": 2,
   "id": "277bdbe6",
   "metadata": {},
   "outputs": [],
   "source": [
    "# Read in the cascade classifiers for face and eyes\n",
    "face_cascade = cv2.CascadeClassifier(cv2.data.haarcascades+'haarcascade_frontalface_default.xml')\n",
    "eye_cascade = cv2.CascadeClassifier(cv2.data.haarcascades+'haarcascade_eye.xml')"
   ]
  },
  {
   "cell_type": "code",
   "execution_count": 3,
   "id": "06407d02",
   "metadata": {},
   "outputs": [],
   "source": [
    "image = cv2.imread(\"peoples.jpg\")\n",
    "gray = cv2.cvtColor(image, cv2.COLOR_BGR2GRAY)"
   ]
  },
  {
   "cell_type": "code",
   "execution_count": 11,
   "id": "653bfc23",
   "metadata": {},
   "outputs": [],
   "source": [
    "faces = face_cascade.detectMultiScale(gray,scaleFactor = 1.2,minNeighbors=1, minSize=(30,10))\n",
    "for(x,y,w,h) in faces:\n",
    "    cv2.rectangle(image, (x, y),(x+w,y+h),(0, 255, 0), 3)\n",
    "eyes = eye_cascade.detectMultiScale(gray,scaleFactor = 1.2,minNeighbors=1,minSize=(10,5))  \n",
    "for(ex,ey,ew,eh) in eyes:\n",
    "    cv2.rectangle(image, (ex, ey),(ex + ew, ey + eh), (10, 10, 250), 3) \n",
    "cv2.imshow(\"output\",image)\n",
    "cv2.waitKey(0)\n",
    "cv2.destroyAllWindows()"
   ]
  },
  {
   "cell_type": "code",
   "execution_count": null,
   "id": "51767c96",
   "metadata": {},
   "outputs": [],
   "source": []
  }
 ],
 "metadata": {
  "kernelspec": {
   "display_name": "Python 3 (ipykernel)",
   "language": "python",
   "name": "python3"
  },
  "language_info": {
   "codemirror_mode": {
    "name": "ipython",
    "version": 3
   },
   "file_extension": ".py",
   "mimetype": "text/x-python",
   "name": "python",
   "nbconvert_exporter": "python",
   "pygments_lexer": "ipython3",
   "version": "3.9.16"
  }
 },
 "nbformat": 4,
 "nbformat_minor": 5
}
