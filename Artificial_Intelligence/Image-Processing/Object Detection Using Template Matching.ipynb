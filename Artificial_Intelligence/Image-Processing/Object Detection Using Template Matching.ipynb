{
 "cells": [
  {
   "cell_type": "markdown",
   "id": "f81e7a5b",
   "metadata": {},
   "source": [
    "## Object Detection Using Template Matching"
   ]
  },
  {
   "cell_type": "code",
   "execution_count": 1,
   "id": "7e05c99e",
   "metadata": {},
   "outputs": [],
   "source": [
    "import cv2\n",
    "import numpy as np\n",
    "from matplotlib import pyplot as plt"
   ]
  },
  {
   "cell_type": "code",
   "execution_count": 2,
   "id": "195c045e",
   "metadata": {},
   "outputs": [],
   "source": [
    "img_rgb = cv2.imread(\"Spiderman's.jpg\")\n",
    "img_gray = cv2.cvtColor(img_rgb, cv2.COLOR_BGR2GRAY)\n",
    "template = cv2.imread(\"Temp.jpg\", 0)"
   ]
  },
  {
   "cell_type": "code",
   "execution_count": 3,
   "id": "2f7bab59",
   "metadata": {},
   "outputs": [],
   "source": [
    "height, width = template.shape[::]\n",
    "\n",
    "match = cv2.matchTemplate(img_gray,template,cv2.TM_SQDIFF)\n",
    "\n",
    "min_val, max_val, min_loc, max_loc = cv2.minMaxLoc(match) \n",
    "\n",
    "top_left = min_loc #Change to max_Loc for all except for TM_SQDIFF\n",
    "\n",
    "bottom_right = (top_left[0] + width, top_left[1] + height)\n",
    "\n",
    "cv2.rectangle(img_rgb, top_left, bottom_right, (255, 0, 0), 2)\n",
    "\n",
    "cv2.imshow(\"Matched Image\",img_rgb)\n",
    "cv2.waitKey()\n",
    "cv2.destroyAllWindows()"
   ]
  },
  {
   "cell_type": "code",
   "execution_count": null,
   "id": "e21c2e9a",
   "metadata": {},
   "outputs": [],
   "source": []
  }
 ],
 "metadata": {
  "kernelspec": {
   "display_name": "Python 3 (ipykernel)",
   "language": "python",
   "name": "python3"
  },
  "language_info": {
   "codemirror_mode": {
    "name": "ipython",
    "version": 3
   },
   "file_extension": ".py",
   "mimetype": "text/x-python",
   "name": "python",
   "nbconvert_exporter": "python",
   "pygments_lexer": "ipython3",
   "version": "3.9.16"
  }
 },
 "nbformat": 4,
 "nbformat_minor": 5
}
