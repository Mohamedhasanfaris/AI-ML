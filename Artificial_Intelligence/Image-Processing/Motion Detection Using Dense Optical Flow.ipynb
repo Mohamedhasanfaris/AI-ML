{
 "cells": [
  {
   "cell_type": "code",
   "execution_count": 1,
   "id": "4c7bff3e",
   "metadata": {},
   "outputs": [],
   "source": [
    "import cv2\n",
    "import numpy as np"
   ]
  },
  {
   "cell_type": "code",
   "execution_count": 2,
   "id": "846aba67",
   "metadata": {},
   "outputs": [],
   "source": [
    "vid = cv2.VideoCapture(\"MHA.mp4\")"
   ]
  },
  {
   "cell_type": "code",
   "execution_count": 3,
   "id": "bc1a6648",
   "metadata": {},
   "outputs": [],
   "source": [
    "# Get first frame\n",
    "ret, first_frame = vid.read()\n",
    "previous_gray = cv2.cvtColor(first_frame, cv2.COLOR_BGR2GRAY)"
   ]
  },
  {
   "cell_type": "code",
   "execution_count": 4,
   "id": "ba0b9ffb",
   "metadata": {},
   "outputs": [],
   "source": [
    "#Zero Matrix\n",
    "hsv = np.zeros_like(first_frame)\n",
    "hsv[...,1] = 255"
   ]
  },
  {
   "attachments": {},
   "cell_type": "markdown",
   "id": "959a4f7d",
   "metadata": {},
   "source": [
    "##  The Gunnar-Farneback Optical Flow "
   ]
  },
  {
   "cell_type": "code",
   "execution_count": 5,
   "id": "e6d655fb",
   "metadata": {},
   "outputs": [
    {
     "name": "stderr",
     "output_type": "stream",
     "text": [
      "C:\\Users\\sys72\\AppData\\Local\\Temp\\ipykernel_6068\\3494425761.py:10: RuntimeWarning: invalid value encountered in cast\n",
      "  hsv[...,2] = cv2.normalize(magnitude, None, 0, 200, cv2.NORM_MINMAX)\n"
     ]
    }
   ],
   "source": [
    "while True:\n",
    "    \n",
    "    ret, frame2 = vid.read()\n",
    "    next = cv2.cvtColor(frame2,cv2.COLOR_BGR2GRAY)\n",
    "\n",
    "    flow = cv2.calcOpticalFlowFarneback(previous_gray, next, None, 0.5, 3, 15, 3, 5, 1.2, 0)\n",
    "    \n",
    "    magnitude, angle = cv2.cartToPolar(flow[...,0], flow[...,1])\n",
    "    hsv[...,0] = angle * (180 / (np.pi/2))\n",
    "    hsv[...,2] = cv2.normalize(magnitude, None, 0, 200, cv2.NORM_MINMAX)\n",
    "    final = cv2.cvtColor(hsv, cv2.COLOR_HSV2BGR)\n",
    "\n",
    "    cv2.imshow('Dense Optical Flow', final)\n",
    "    if cv2.waitKey(1) & 0xFF == ord(\"q\"):\n",
    "        break\n",
    "    \n",
    "    previous_gray = next\n",
    "\n",
    "vid.release()\n",
    "cv2.destroyAllWindows()"
   ]
  }
 ],
 "metadata": {
  "kernelspec": {
   "display_name": "Python 3 (ipykernel)",
   "language": "python",
   "name": "python3"
  },
  "language_info": {
   "codemirror_mode": {
    "name": "ipython",
    "version": 3
   },
   "file_extension": ".py",
   "mimetype": "text/x-python",
   "name": "python",
   "nbconvert_exporter": "python",
   "pygments_lexer": "ipython3",
   "version": "3.9.16"
  }
 },
 "nbformat": 4,
 "nbformat_minor": 5
}
