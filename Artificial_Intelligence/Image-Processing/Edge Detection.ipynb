{
 "cells": [
  {
   "cell_type": "code",
   "execution_count": 1,
   "id": "76b9ef4b",
   "metadata": {},
   "outputs": [],
   "source": [
    "import cv2\n",
    "import numpy as np\n",
    "from matplotlib import pyplot as plt"
   ]
  },
  {
   "cell_type": "code",
   "execution_count": 2,
   "id": "6925a647",
   "metadata": {},
   "outputs": [],
   "source": [
    "img = cv2.imread(\"New-York.jpg\",0)"
   ]
  },
  {
   "cell_type": "markdown",
   "id": "667af78f",
   "metadata": {},
   "source": [
    "### CANNY EDGE"
   ]
  },
  {
   "cell_type": "code",
   "execution_count": 3,
   "id": "c49d9ac3",
   "metadata": {},
   "outputs": [],
   "source": [
    "canny = cv2.Canny(img,10,100)"
   ]
  },
  {
   "cell_type": "code",
   "execution_count": 4,
   "id": "bdb67c47",
   "metadata": {},
   "outputs": [
    {
     "data": {
      "text/plain": [
       "-1"
      ]
     },
     "execution_count": 4,
     "metadata": {},
     "output_type": "execute_result"
    }
   ],
   "source": [
    "cv2.imshow(\"og\",img)\n",
    "cv2.imshow(\"Mr.Canny\",canny)\n",
    "cv2.waitKey(0)"
   ]
  },
  {
   "cell_type": "markdown",
   "id": "8cae0f61",
   "metadata": {},
   "source": [
    "### Canny Edge Detection In Video"
   ]
  },
  {
   "cell_type": "code",
   "execution_count": 5,
   "id": "3654dc84",
   "metadata": {},
   "outputs": [],
   "source": [
    "#video read\n",
    "vid = cv2.VideoCapture(\"TENGEN.mp4\")\n",
    "# process\n",
    "while(1):\n",
    "    ret, frame = vid.read()\n",
    "    \n",
    "    gray = cv2.cvtColor(frame, cv2.COLOR_BGR2GRAY)\n",
    "     \n",
    "    cv2.imshow(\"nature\",frame)\n",
    "    \n",
    "    edges = cv2.Canny(frame,100,50)\n",
    "    \n",
    "    cv2.imshow(\"Edges\",edges)\n",
    "    if cv2.waitKey(1) & 0xFF == ord(\"q\"):\n",
    "  \n",
    "        break\n",
    "vid.release()\n",
    "cv2.destroyAllWindows() "
   ]
  },
  {
   "cell_type": "code",
   "execution_count": null,
   "id": "839ae9dc",
   "metadata": {},
   "outputs": [],
   "source": []
  }
 ],
 "metadata": {
  "kernelspec": {
   "display_name": "Python 3 (ipykernel)",
   "language": "python",
   "name": "python3"
  },
  "language_info": {
   "codemirror_mode": {
    "name": "ipython",
    "version": 3
   },
   "file_extension": ".py",
   "mimetype": "text/x-python",
   "name": "python",
   "nbconvert_exporter": "python",
   "pygments_lexer": "ipython3",
   "version": "3.9.16"
  }
 },
 "nbformat": 4,
 "nbformat_minor": 5
}
