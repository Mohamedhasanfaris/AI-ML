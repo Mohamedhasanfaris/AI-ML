{
 "cells": [
  {
   "cell_type": "markdown",
   "id": "92ab6877",
   "metadata": {},
   "source": [
    "## Data Visualization"
   ]
  },
  {
   "cell_type": "markdown",
   "id": "fc6c6f37",
   "metadata": {},
   "source": [
    "#### pip install matplotlib"
   ]
  },
  {
   "cell_type": "markdown",
   "id": "47d41c5e",
   "metadata": {},
   "source": [
    "#### pip install seaborn"
   ]
  },
  {
   "cell_type": "code",
   "execution_count": 1,
   "id": "1ed23c59",
   "metadata": {},
   "outputs": [],
   "source": [
    "import pandas as pand\n",
    "import numpy as np\n",
    "import matplotlib.pyplot as plt\n",
    "%matplotlib inline"
   ]
  },
  {
   "cell_type": "code",
   "execution_count": 2,
   "id": "5bca92cc",
   "metadata": {
    "scrolled": true
   },
   "outputs": [
    {
     "data": {
      "text/html": [
       "<div>\n",
       "<style scoped>\n",
       "    .dataframe tbody tr th:only-of-type {\n",
       "        vertical-align: middle;\n",
       "    }\n",
       "\n",
       "    .dataframe tbody tr th {\n",
       "        vertical-align: top;\n",
       "    }\n",
       "\n",
       "    .dataframe thead th {\n",
       "        text-align: right;\n",
       "    }\n",
       "</style>\n",
       "<table border=\"1\" class=\"dataframe\">\n",
       "  <thead>\n",
       "    <tr style=\"text-align: right;\">\n",
       "      <th></th>\n",
       "      <th>Serial No.</th>\n",
       "      <th>GRE Score</th>\n",
       "      <th>TOEFL Score</th>\n",
       "      <th>University Rating</th>\n",
       "      <th>SOP</th>\n",
       "      <th>LOR</th>\n",
       "      <th>CGPA</th>\n",
       "      <th>Research</th>\n",
       "      <th>Chance of Admit</th>\n",
       "    </tr>\n",
       "  </thead>\n",
       "  <tbody>\n",
       "    <tr>\n",
       "      <th>0</th>\n",
       "      <td>1</td>\n",
       "      <td>337</td>\n",
       "      <td>118</td>\n",
       "      <td>4</td>\n",
       "      <td>4.5</td>\n",
       "      <td>4.5</td>\n",
       "      <td>9.65</td>\n",
       "      <td>1</td>\n",
       "      <td>0.92</td>\n",
       "    </tr>\n",
       "    <tr>\n",
       "      <th>1</th>\n",
       "      <td>2</td>\n",
       "      <td>324</td>\n",
       "      <td>107</td>\n",
       "      <td>4</td>\n",
       "      <td>4.0</td>\n",
       "      <td>4.5</td>\n",
       "      <td>8.87</td>\n",
       "      <td>1</td>\n",
       "      <td>0.76</td>\n",
       "    </tr>\n",
       "    <tr>\n",
       "      <th>2</th>\n",
       "      <td>3</td>\n",
       "      <td>316</td>\n",
       "      <td>104</td>\n",
       "      <td>3</td>\n",
       "      <td>3.0</td>\n",
       "      <td>3.5</td>\n",
       "      <td>8.00</td>\n",
       "      <td>1</td>\n",
       "      <td>0.72</td>\n",
       "    </tr>\n",
       "    <tr>\n",
       "      <th>3</th>\n",
       "      <td>4</td>\n",
       "      <td>322</td>\n",
       "      <td>110</td>\n",
       "      <td>3</td>\n",
       "      <td>3.5</td>\n",
       "      <td>2.5</td>\n",
       "      <td>8.67</td>\n",
       "      <td>1</td>\n",
       "      <td>0.80</td>\n",
       "    </tr>\n",
       "    <tr>\n",
       "      <th>4</th>\n",
       "      <td>5</td>\n",
       "      <td>314</td>\n",
       "      <td>103</td>\n",
       "      <td>2</td>\n",
       "      <td>2.0</td>\n",
       "      <td>3.0</td>\n",
       "      <td>8.21</td>\n",
       "      <td>0</td>\n",
       "      <td>0.65</td>\n",
       "    </tr>\n",
       "    <tr>\n",
       "      <th>...</th>\n",
       "      <td>...</td>\n",
       "      <td>...</td>\n",
       "      <td>...</td>\n",
       "      <td>...</td>\n",
       "      <td>...</td>\n",
       "      <td>...</td>\n",
       "      <td>...</td>\n",
       "      <td>...</td>\n",
       "      <td>...</td>\n",
       "    </tr>\n",
       "    <tr>\n",
       "      <th>495</th>\n",
       "      <td>496</td>\n",
       "      <td>332</td>\n",
       "      <td>108</td>\n",
       "      <td>5</td>\n",
       "      <td>4.5</td>\n",
       "      <td>4.0</td>\n",
       "      <td>9.02</td>\n",
       "      <td>1</td>\n",
       "      <td>0.87</td>\n",
       "    </tr>\n",
       "    <tr>\n",
       "      <th>496</th>\n",
       "      <td>497</td>\n",
       "      <td>337</td>\n",
       "      <td>117</td>\n",
       "      <td>5</td>\n",
       "      <td>5.0</td>\n",
       "      <td>5.0</td>\n",
       "      <td>9.87</td>\n",
       "      <td>1</td>\n",
       "      <td>0.96</td>\n",
       "    </tr>\n",
       "    <tr>\n",
       "      <th>497</th>\n",
       "      <td>498</td>\n",
       "      <td>330</td>\n",
       "      <td>120</td>\n",
       "      <td>5</td>\n",
       "      <td>4.5</td>\n",
       "      <td>5.0</td>\n",
       "      <td>9.56</td>\n",
       "      <td>1</td>\n",
       "      <td>0.93</td>\n",
       "    </tr>\n",
       "    <tr>\n",
       "      <th>498</th>\n",
       "      <td>499</td>\n",
       "      <td>312</td>\n",
       "      <td>103</td>\n",
       "      <td>4</td>\n",
       "      <td>4.0</td>\n",
       "      <td>5.0</td>\n",
       "      <td>8.43</td>\n",
       "      <td>0</td>\n",
       "      <td>0.73</td>\n",
       "    </tr>\n",
       "    <tr>\n",
       "      <th>499</th>\n",
       "      <td>500</td>\n",
       "      <td>327</td>\n",
       "      <td>113</td>\n",
       "      <td>4</td>\n",
       "      <td>4.5</td>\n",
       "      <td>4.5</td>\n",
       "      <td>9.04</td>\n",
       "      <td>0</td>\n",
       "      <td>0.84</td>\n",
       "    </tr>\n",
       "  </tbody>\n",
       "</table>\n",
       "<p>500 rows × 9 columns</p>\n",
       "</div>"
      ],
      "text/plain": [
       "     Serial No.  GRE Score  TOEFL Score  University Rating  SOP  LOR  CGPA  \\\n",
       "0             1        337          118                  4  4.5  4.5  9.65   \n",
       "1             2        324          107                  4  4.0  4.5  8.87   \n",
       "2             3        316          104                  3  3.0  3.5  8.00   \n",
       "3             4        322          110                  3  3.5  2.5  8.67   \n",
       "4             5        314          103                  2  2.0  3.0  8.21   \n",
       "..          ...        ...          ...                ...  ...  ...   ...   \n",
       "495         496        332          108                  5  4.5  4.0  9.02   \n",
       "496         497        337          117                  5  5.0  5.0  9.87   \n",
       "497         498        330          120                  5  4.5  5.0  9.56   \n",
       "498         499        312          103                  4  4.0  5.0  8.43   \n",
       "499         500        327          113                  4  4.5  4.5  9.04   \n",
       "\n",
       "     Research  Chance of Admit  \n",
       "0           1             0.92  \n",
       "1           1             0.76  \n",
       "2           1             0.72  \n",
       "3           1             0.80  \n",
       "4           0             0.65  \n",
       "..        ...              ...  \n",
       "495         1             0.87  \n",
       "496         1             0.96  \n",
       "497         1             0.93  \n",
       "498         0             0.73  \n",
       "499         0             0.84  \n",
       "\n",
       "[500 rows x 9 columns]"
      ]
     },
     "execution_count": 2,
     "metadata": {},
     "output_type": "execute_result"
    }
   ],
   "source": [
    "data=pand.read_csv('Admission_Predict_Ver1.1.csv')\n",
    "data"
   ]
  },
  {
   "cell_type": "code",
   "execution_count": 3,
   "id": "859b9fce",
   "metadata": {
    "scrolled": true
   },
   "outputs": [
    {
     "data": {
      "text/plain": [
       "0      337\n",
       "1      324\n",
       "2      316\n",
       "3      322\n",
       "4      314\n",
       "      ... \n",
       "495    332\n",
       "496    337\n",
       "497    330\n",
       "498    312\n",
       "499    327\n",
       "Name: GRE Score, Length: 500, dtype: int64"
      ]
     },
     "execution_count": 3,
     "metadata": {},
     "output_type": "execute_result"
    }
   ],
   "source": [
    "xaxis=data['GRE Score']\n",
    "xaxis"
   ]
  },
  {
   "cell_type": "code",
   "execution_count": 4,
   "id": "958a3026",
   "metadata": {
    "scrolled": false
   },
   "outputs": [
    {
     "data": {
      "text/plain": [
       "0      0.92\n",
       "1      0.76\n",
       "2      0.72\n",
       "3      0.80\n",
       "4      0.65\n",
       "       ... \n",
       "495    0.87\n",
       "496    0.96\n",
       "497    0.93\n",
       "498    0.73\n",
       "499    0.84\n",
       "Name: Chance of Admit, Length: 500, dtype: float64"
      ]
     },
     "execution_count": 4,
     "metadata": {},
     "output_type": "execute_result"
    }
   ],
   "source": [
    "yaxis=data['Chance of Admit']\n",
    "yaxis"
   ]
  },
  {
   "cell_type": "markdown",
   "id": "ca72c81d",
   "metadata": {},
   "source": [
    "## Scatter Plot"
   ]
  },
  {
   "cell_type": "code",
   "execution_count": 5,
   "id": "e55a47f3",
   "metadata": {
    "scrolled": false
   },
   "outputs": [
    {
     "data": {
      "text/plain": [
       "<matplotlib.collections.PathCollection at 0x26b34e5f1c0>"
      ]
     },
     "execution_count": 5,
     "metadata": {},
     "output_type": "execute_result"
    },
    {
     "data": {
      "image/png": "[encoded data removed]",
      "text/plain": [
       "<Figure size 640x480 with 1 Axes>"
      ]
     },
     "metadata": {},
     "output_type": "display_data"
    }
   ],
   "source": [
    "plt.scatter(xaxis,yaxis)"
   ]
  },
  {
   "cell_type": "code",
   "execution_count": 6,
   "id": "44bb1b89",
   "metadata": {
    "scrolled": false
   },
   "outputs": [
    {
     "data": {
      "text/html": [
       "<div>\n",
       "<style scoped>\n",
       "    .dataframe tbody tr th:only-of-type {\n",
       "        vertical-align: middle;\n",
       "    }\n",
       "\n",
       "    .dataframe tbody tr th {\n",
       "        vertical-align: top;\n",
       "    }\n",
       "\n",
       "    .dataframe thead th {\n",
       "        text-align: right;\n",
       "    }\n",
       "</style>\n",
       "<table border=\"1\" class=\"dataframe\">\n",
       "  <thead>\n",
       "    <tr style=\"text-align: right;\">\n",
       "      <th></th>\n",
       "      <th>Unnamed: 0</th>\n",
       "      <th>brand</th>\n",
       "      <th>price</th>\n",
       "      <th>offer</th>\n",
       "    </tr>\n",
       "  </thead>\n",
       "  <tbody>\n",
       "    <tr>\n",
       "      <th>0</th>\n",
       "      <td>0</td>\n",
       "      <td>Wildcraft</td>\n",
       "      <td>₹1,799</td>\n",
       "      <td>55% off</td>\n",
       "    </tr>\n",
       "    <tr>\n",
       "      <th>1</th>\n",
       "      <td>1</td>\n",
       "      <td>BRUTON</td>\n",
       "      <td>₹499</td>\n",
       "      <td>80% off</td>\n",
       "    </tr>\n",
       "    <tr>\n",
       "      <th>2</th>\n",
       "      <td>2</td>\n",
       "      <td>aadi</td>\n",
       "      <td>₹387</td>\n",
       "      <td>80% off</td>\n",
       "    </tr>\n",
       "    <tr>\n",
       "      <th>3</th>\n",
       "      <td>3</td>\n",
       "      <td>BRUTON</td>\n",
       "      <td>₹299</td>\n",
       "      <td>76% off</td>\n",
       "    </tr>\n",
       "    <tr>\n",
       "      <th>4</th>\n",
       "      <td>4</td>\n",
       "      <td>WAAN</td>\n",
       "      <td>₹399</td>\n",
       "      <td>84% off</td>\n",
       "    </tr>\n",
       "    <tr>\n",
       "      <th>5</th>\n",
       "      <td>5</td>\n",
       "      <td>aadi</td>\n",
       "      <td>₹399</td>\n",
       "      <td>80% off</td>\n",
       "    </tr>\n",
       "    <tr>\n",
       "      <th>6</th>\n",
       "      <td>6</td>\n",
       "      <td>GO-RIDE</td>\n",
       "      <td>₹1,399</td>\n",
       "      <td>26% off</td>\n",
       "    </tr>\n",
       "    <tr>\n",
       "      <th>7</th>\n",
       "      <td>7</td>\n",
       "      <td>Wildcraft</td>\n",
       "      <td>₹1,799</td>\n",
       "      <td>55% off</td>\n",
       "    </tr>\n",
       "    <tr>\n",
       "      <th>8</th>\n",
       "      <td>8</td>\n",
       "      <td>Sparx</td>\n",
       "      <td>₹1,169</td>\n",
       "      <td>35% off</td>\n",
       "    </tr>\n",
       "    <tr>\n",
       "      <th>9</th>\n",
       "      <td>9</td>\n",
       "      <td>aadi</td>\n",
       "      <td>₹435</td>\n",
       "      <td>78% off</td>\n",
       "    </tr>\n",
       "    <tr>\n",
       "      <th>10</th>\n",
       "      <td>10</td>\n",
       "      <td>RapidBox</td>\n",
       "      <td>₹479</td>\n",
       "      <td>52% off</td>\n",
       "    </tr>\n",
       "    <tr>\n",
       "      <th>11</th>\n",
       "      <td>11</td>\n",
       "      <td>aadi</td>\n",
       "      <td>₹392</td>\n",
       "      <td>60% off</td>\n",
       "    </tr>\n",
       "    <tr>\n",
       "      <th>12</th>\n",
       "      <td>12</td>\n",
       "      <td>Nobelite</td>\n",
       "      <td>₹299</td>\n",
       "      <td>70% off</td>\n",
       "    </tr>\n",
       "    <tr>\n",
       "      <th>13</th>\n",
       "      <td>13</td>\n",
       "      <td>aadi</td>\n",
       "      <td>₹429</td>\n",
       "      <td>78% off</td>\n",
       "    </tr>\n",
       "    <tr>\n",
       "      <th>14</th>\n",
       "      <td>14</td>\n",
       "      <td>Bata</td>\n",
       "      <td>₹755</td>\n",
       "      <td>37% off</td>\n",
       "    </tr>\n",
       "    <tr>\n",
       "      <th>15</th>\n",
       "      <td>15</td>\n",
       "      <td>WAAN</td>\n",
       "      <td>₹399</td>\n",
       "      <td>80% off</td>\n",
       "    </tr>\n",
       "    <tr>\n",
       "      <th>16</th>\n",
       "      <td>16</td>\n",
       "      <td>Kraasa</td>\n",
       "      <td>₹499</td>\n",
       "      <td>50% off</td>\n",
       "    </tr>\n",
       "    <tr>\n",
       "      <th>17</th>\n",
       "      <td>17</td>\n",
       "      <td>Kraasa</td>\n",
       "      <td>₹499</td>\n",
       "      <td>50% off</td>\n",
       "    </tr>\n",
       "    <tr>\n",
       "      <th>18</th>\n",
       "      <td>18</td>\n",
       "      <td>Irya Fashion</td>\n",
       "      <td>₹999</td>\n",
       "      <td>60% off</td>\n",
       "    </tr>\n",
       "    <tr>\n",
       "      <th>19</th>\n",
       "      <td>19</td>\n",
       "      <td>Sparx</td>\n",
       "      <td>₹584</td>\n",
       "      <td>35% off</td>\n",
       "    </tr>\n",
       "    <tr>\n",
       "      <th>20</th>\n",
       "      <td>20</td>\n",
       "      <td>RapidBox</td>\n",
       "      <td>₹649</td>\n",
       "      <td>35% off</td>\n",
       "    </tr>\n",
       "    <tr>\n",
       "      <th>21</th>\n",
       "      <td>21</td>\n",
       "      <td>ATOM</td>\n",
       "      <td>₹1,199</td>\n",
       "      <td>63% off</td>\n",
       "    </tr>\n",
       "    <tr>\n",
       "      <th>22</th>\n",
       "      <td>22</td>\n",
       "      <td>HRX by Hrithik Roshan</td>\n",
       "      <td>₹1,047</td>\n",
       "      <td>70% off</td>\n",
       "    </tr>\n",
       "    <tr>\n",
       "      <th>23</th>\n",
       "      <td>23</td>\n",
       "      <td>WAAN</td>\n",
       "      <td>₹399</td>\n",
       "      <td>80% off</td>\n",
       "    </tr>\n",
       "    <tr>\n",
       "      <th>24</th>\n",
       "      <td>24</td>\n",
       "      <td>World Wear Footwear</td>\n",
       "      <td>₹299</td>\n",
       "      <td>69% off</td>\n",
       "    </tr>\n",
       "    <tr>\n",
       "      <th>25</th>\n",
       "      <td>25</td>\n",
       "      <td>SFR</td>\n",
       "      <td>₹369</td>\n",
       "      <td>63% off</td>\n",
       "    </tr>\n",
       "    <tr>\n",
       "      <th>26</th>\n",
       "      <td>26</td>\n",
       "      <td>JQR</td>\n",
       "      <td>₹1,139</td>\n",
       "      <td>32% off</td>\n",
       "    </tr>\n",
       "    <tr>\n",
       "      <th>27</th>\n",
       "      <td>27</td>\n",
       "      <td>Airson</td>\n",
       "      <td>₹469</td>\n",
       "      <td>57% off</td>\n",
       "    </tr>\n",
       "    <tr>\n",
       "      <th>28</th>\n",
       "      <td>28</td>\n",
       "      <td>HRX by Hrithik Roshan</td>\n",
       "      <td>₹1,225</td>\n",
       "      <td>64% off</td>\n",
       "    </tr>\n",
       "    <tr>\n",
       "      <th>29</th>\n",
       "      <td>29</td>\n",
       "      <td>CAMPUS</td>\n",
       "      <td>₹849</td>\n",
       "      <td>39% off</td>\n",
       "    </tr>\n",
       "    <tr>\n",
       "      <th>30</th>\n",
       "      <td>30</td>\n",
       "      <td>Kraasa</td>\n",
       "      <td>₹499</td>\n",
       "      <td>50% off</td>\n",
       "    </tr>\n",
       "    <tr>\n",
       "      <th>31</th>\n",
       "      <td>31</td>\n",
       "      <td>JQR</td>\n",
       "      <td>₹1,069</td>\n",
       "      <td>37% off</td>\n",
       "    </tr>\n",
       "    <tr>\n",
       "      <th>32</th>\n",
       "      <td>32</td>\n",
       "      <td>PUMA</td>\n",
       "      <td>₹1,111</td>\n",
       "      <td>74% off</td>\n",
       "    </tr>\n",
       "    <tr>\n",
       "      <th>33</th>\n",
       "      <td>33</td>\n",
       "      <td>asian</td>\n",
       "      <td>₹76</td>\n",
       "      <td>36% off</td>\n",
       "    </tr>\n",
       "    <tr>\n",
       "      <th>34</th>\n",
       "      <td>34</td>\n",
       "      <td>BTOM</td>\n",
       "      <td>₹732</td>\n",
       "      <td>63% off</td>\n",
       "    </tr>\n",
       "    <tr>\n",
       "      <th>35</th>\n",
       "      <td>35</td>\n",
       "      <td>Nobelite</td>\n",
       "      <td>₹299</td>\n",
       "      <td>70% off</td>\n",
       "    </tr>\n",
       "    <tr>\n",
       "      <th>36</th>\n",
       "      <td>36</td>\n",
       "      <td>Bata</td>\n",
       "      <td>₹692</td>\n",
       "      <td>37% off</td>\n",
       "    </tr>\n",
       "    <tr>\n",
       "      <th>37</th>\n",
       "      <td>37</td>\n",
       "      <td>Kraasa</td>\n",
       "      <td>₹482</td>\n",
       "      <td>51% off</td>\n",
       "    </tr>\n",
       "    <tr>\n",
       "      <th>38</th>\n",
       "      <td>38</td>\n",
       "      <td>CAMPUS</td>\n",
       "      <td>₹1,047</td>\n",
       "      <td>38% off</td>\n",
       "    </tr>\n",
       "    <tr>\n",
       "      <th>39</th>\n",
       "      <td>39</td>\n",
       "      <td>Nobelite</td>\n",
       "      <td>₹399</td>\n",
       "      <td>72% off</td>\n",
       "    </tr>\n",
       "  </tbody>\n",
       "</table>\n",
       "</div>"
      ],
      "text/plain": [
       "    Unnamed: 0                  brand   price    offer\n",
       "0            0              Wildcraft  ₹1,799  55% off\n",
       "1            1                 BRUTON    ₹499  80% off\n",
       "2            2                   aadi    ₹387  80% off\n",
       "3            3                 BRUTON    ₹299  76% off\n",
       "4            4                   WAAN    ₹399  84% off\n",
       "5            5                   aadi    ₹399  80% off\n",
       "6            6                GO-RIDE  ₹1,399  26% off\n",
       "7            7              Wildcraft  ₹1,799  55% off\n",
       "8            8                  Sparx  ₹1,169  35% off\n",
       "9            9                   aadi    ₹435  78% off\n",
       "10          10               RapidBox    ₹479  52% off\n",
       "11          11                   aadi    ₹392  60% off\n",
       "12          12               Nobelite    ₹299  70% off\n",
       "13          13                   aadi    ₹429  78% off\n",
       "14          14                   Bata    ₹755  37% off\n",
       "15          15                   WAAN    ₹399  80% off\n",
       "16          16                 Kraasa    ₹499  50% off\n",
       "17          17                 Kraasa    ₹499  50% off\n",
       "18          18           Irya Fashion    ₹999  60% off\n",
       "19          19                  Sparx    ₹584  35% off\n",
       "20          20               RapidBox    ₹649  35% off\n",
       "21          21                   ATOM  ₹1,199  63% off\n",
       "22          22  HRX by Hrithik Roshan  ₹1,047  70% off\n",
       "23          23                   WAAN    ₹399  80% off\n",
       "24          24    World Wear Footwear    ₹299  69% off\n",
       "25          25                    SFR    ₹369  63% off\n",
       "26          26                    JQR  ₹1,139  32% off\n",
       "27          27                 Airson    ₹469  57% off\n",
       "28          28  HRX by Hrithik Roshan  ₹1,225  64% off\n",
       "29          29                 CAMPUS    ₹849  39% off\n",
       "30          30                 Kraasa    ₹499  50% off\n",
       "31          31                    JQR  ₹1,069  37% off\n",
       "32          32                   PUMA  ₹1,111  74% off\n",
       "33          33                  asian     ₹76  36% off\n",
       "34          34                   BTOM    ₹732  63% off\n",
       "35          35               Nobelite    ₹299  70% off\n",
       "36          36                   Bata    ₹692  37% off\n",
       "37          37                 Kraasa    ₹482  51% off\n",
       "38          38                 CAMPUS  ₹1,047  38% off\n",
       "39          39               Nobelite    ₹399  72% off"
      ]
     },
     "execution_count": 6,
     "metadata": {},
     "output_type": "execute_result"
    }
   ],
   "source": [
    "data2=pand.read_csv('data.csv')\n",
    "data2"
   ]
  },
  {
   "cell_type": "code",
   "execution_count": 7,
   "id": "f0462d02",
   "metadata": {
    "scrolled": true
   },
   "outputs": [
    {
     "data": {
      "text/plain": [
       "0                 Wildcraft\n",
       "1                    BRUTON\n",
       "2                      aadi\n",
       "3                    BRUTON\n",
       "4                      WAAN\n",
       "5                      aadi\n",
       "6                   GO-RIDE\n",
       "7                 Wildcraft\n",
       "8                     Sparx\n",
       "9                      aadi\n",
       "10                 RapidBox\n",
       "11                     aadi\n",
       "12                 Nobelite\n",
       "13                     aadi\n",
       "14                     Bata\n",
       "15                     WAAN\n",
       "16                   Kraasa\n",
       "17                   Kraasa\n",
       "18             Irya Fashion\n",
       "19                    Sparx\n",
       "20                 RapidBox\n",
       "21                     ATOM\n",
       "22    HRX by Hrithik Roshan\n",
       "23                     WAAN\n",
       "24      World Wear Footwear\n",
       "25                      SFR\n",
       "26                      JQR\n",
       "27                   Airson\n",
       "28    HRX by Hrithik Roshan\n",
       "29                   CAMPUS\n",
       "30                   Kraasa\n",
       "31                      JQR\n",
       "32                     PUMA\n",
       "33                    asian\n",
       "34                     BTOM\n",
       "35                 Nobelite\n",
       "36                     Bata\n",
       "37                   Kraasa\n",
       "38                   CAMPUS\n",
       "39                 Nobelite\n",
       "Name: brand, dtype: object"
      ]
     },
     "execution_count": 7,
     "metadata": {},
     "output_type": "execute_result"
    }
   ],
   "source": [
    "xaxis1=data2['brand']\n",
    "xaxis1"
   ]
  },
  {
   "cell_type": "code",
   "execution_count": 8,
   "id": "42a42795",
   "metadata": {
    "scrolled": true
   },
   "outputs": [
    {
     "data": {
      "text/plain": [
       "0     ₹1,799\n",
       "1       ₹499\n",
       "2       ₹387\n",
       "3       ₹299\n",
       "4       ₹399\n",
       "5       ₹399\n",
       "6     ₹1,399\n",
       "7     ₹1,799\n",
       "8     ₹1,169\n",
       "9       ₹435\n",
       "10      ₹479\n",
       "11      ₹392\n",
       "12      ₹299\n",
       "13      ₹429\n",
       "14      ₹755\n",
       "15      ₹399\n",
       "16      ₹499\n",
       "17      ₹499\n",
       "18      ₹999\n",
       "19      ₹584\n",
       "20      ₹649\n",
       "21    ₹1,199\n",
       "22    ₹1,047\n",
       "23      ₹399\n",
       "24      ₹299\n",
       "25      ₹369\n",
       "26    ₹1,139\n",
       "27      ₹469\n",
       "28    ₹1,225\n",
       "29      ₹849\n",
       "30      ₹499\n",
       "31    ₹1,069\n",
       "32    ₹1,111\n",
       "33       ₹76\n",
       "34      ₹732\n",
       "35      ₹299\n",
       "36      ₹692\n",
       "37      ₹482\n",
       "38    ₹1,047\n",
       "39      ₹399\n",
       "Name: price, dtype: object"
      ]
     },
     "execution_count": 8,
     "metadata": {},
     "output_type": "execute_result"
    }
   ],
   "source": [
    "yaxis1=data2['price']\n",
    "yaxis1"
   ]
  },
  {
   "cell_type": "code",
   "execution_count": 9,
   "id": "c3d9ae32",
   "metadata": {
    "scrolled": true
   },
   "outputs": [
    {
     "data": {
      "text/plain": [
       "<BarContainer object of 40 artists>"
      ]
     },
     "execution_count": 9,
     "metadata": {},
     "output_type": "execute_result"
    },
    {
     "data": {
      "image/png": "[encoded data removed]",
      "text/plain": [
       "<Figure size 640x480 with 1 Axes>"
      ]
     },
     "metadata": {},
     "output_type": "display_data"
    }
   ],
   "source": [
    "plt.bar(xaxis1,yaxis1)"
   ]
  },
  {
   "cell_type": "code",
   "execution_count": 10,
   "id": "eca78d19",
   "metadata": {
    "scrolled": true
   },
   "outputs": [
    {
     "data": {
      "text/plain": [
       "0     1799\n",
       "1      499\n",
       "2      387\n",
       "3      299\n",
       "4      399\n",
       "5      399\n",
       "6     1399\n",
       "7     1799\n",
       "8     1169\n",
       "9      435\n",
       "10     479\n",
       "11     392\n",
       "12     299\n",
       "13     429\n",
       "14     755\n",
       "15     399\n",
       "16     499\n",
       "17     499\n",
       "18     999\n",
       "19     584\n",
       "20     649\n",
       "21    1199\n",
       "22    1047\n",
       "23     399\n",
       "24     299\n",
       "25     369\n",
       "26    1139\n",
       "27     469\n",
       "28    1225\n",
       "29     849\n",
       "30     499\n",
       "31    1069\n",
       "32    1111\n",
       "33      76\n",
       "34     732\n",
       "35     299\n",
       "36     692\n",
       "37     482\n",
       "38    1047\n",
       "39     399\n",
       "Name: price, dtype: int32"
      ]
     },
     "execution_count": 10,
     "metadata": {},
     "output_type": "execute_result"
    }
   ],
   "source": [
    "changed_price=yaxis1.str.strip('₹').replace(',','',regex=True).astype(int)\n",
    "changed_price"
   ]
  },
  {
   "cell_type": "code",
   "execution_count": 11,
   "id": "940ba4b3",
   "metadata": {},
   "outputs": [
    {
     "data": {
      "text/plain": [
       "<BarContainer object of 40 artists>"
      ]
     },
     "execution_count": 11,
     "metadata": {},
     "output_type": "execute_result"
    },
    {
     "data": {
      "image/png": "[encoded data removed]",
      "text/plain": [
       "<Figure size 640x480 with 1 Axes>"
      ]
     },
     "metadata": {},
     "output_type": "display_data"
    }
   ],
   "source": [
    "plt.bar(xaxis1,changed_price)"
   ]
  },
  {
   "cell_type": "code",
   "execution_count": 12,
   "id": "7d38bee1",
   "metadata": {
    "scrolled": true
   },
   "outputs": [
    {
     "data": {
      "text/plain": [
       "([<matplotlib.patches.Wedge at 0x26b3715b070>,\n",
       "  <matplotlib.patches.Wedge at 0x26b37166700>,\n",
       "  <matplotlib.patches.Wedge at 0x26b382eba00>,\n",
       "  <matplotlib.patches.Wedge at 0x26b382ebe80>,\n",
       "  <matplotlib.patches.Wedge at 0x26b38181340>,\n",
       "  <matplotlib.patches.Wedge at 0x26b381817c0>,\n",
       "  <matplotlib.patches.Wedge at 0x26b38181c40>,\n",
       "  <matplotlib.patches.Wedge at 0x26b3818e100>,\n",
       "  <matplotlib.patches.Wedge at 0x26b3818e580>,\n",
       "  <matplotlib.patches.Wedge at 0x26b3818ea00>,\n",
       "  <matplotlib.patches.Wedge at 0x26b3715b040>,\n",
       "  <matplotlib.patches.Wedge at 0x26b3819e310>,\n",
       "  <matplotlib.patches.Wedge at 0x26b3819e790>,\n",
       "  <matplotlib.patches.Wedge at 0x26b3819ec10>,\n",
       "  <matplotlib.patches.Wedge at 0x26b381aa0d0>,\n",
       "  <matplotlib.patches.Wedge at 0x26b381aa550>,\n",
       "  <matplotlib.patches.Wedge at 0x26b381aa9d0>,\n",
       "  <matplotlib.patches.Wedge at 0x26b381aae50>,\n",
       "  <matplotlib.patches.Wedge at 0x26b381bb310>,\n",
       "  <matplotlib.patches.Wedge at 0x26b381bb790>,\n",
       "  <matplotlib.patches.Wedge at 0x26b381bbc10>,\n",
       "  <matplotlib.patches.Wedge at 0x26b381ca0d0>,\n",
       "  <matplotlib.patches.Wedge at 0x26b381ca550>,\n",
       "  <matplotlib.patches.Wedge at 0x26b381ca9d0>,\n",
       "  <matplotlib.patches.Wedge at 0x26b381cae50>,\n",
       "  <matplotlib.patches.Wedge at 0x26b381d8310>,\n",
       "  <matplotlib.patches.Wedge at 0x26b381d8790>,\n",
       "  <matplotlib.patches.Wedge at 0x26b381d8c10>,\n",
       "  <matplotlib.patches.Wedge at 0x26b381e50d0>,\n",
       "  <matplotlib.patches.Wedge at 0x26b381e5550>,\n",
       "  <matplotlib.patches.Wedge at 0x26b381e59d0>,\n",
       "  <matplotlib.patches.Wedge at 0x26b381e5e50>,\n",
       "  <matplotlib.patches.Wedge at 0x26b381f7310>,\n",
       "  <matplotlib.patches.Wedge at 0x26b381f7790>,\n",
       "  <matplotlib.patches.Wedge at 0x26b381f7c10>,\n",
       "  <matplotlib.patches.Wedge at 0x26b382040d0>,\n",
       "  <matplotlib.patches.Wedge at 0x26b38204550>,\n",
       "  <matplotlib.patches.Wedge at 0x26b382049d0>,\n",
       "  <matplotlib.patches.Wedge at 0x26b38204e50>,\n",
       "  <matplotlib.patches.Wedge at 0x26b38214310>],\n",
       " [Text(1.0776167279014428, 0.220776329680036, 'Wildcraft'),\n",
       "  Text(0.9855560079337993, 0.4885482117719734, 'BRUTON'),\n",
       "  Text(0.9321377657601663, 0.5840540947922938, 'aadi'),\n",
       "  Text(0.8844107328962376, 0.6540777136838865, 'BRUTON'),\n",
       "  Text(0.8304632822294585, 0.7213395433973343, 'WAAN'),\n",
       "  Text(0.7625563921607851, 0.7927848060947732, 'aadi'),\n",
       "  Text(0.5880275234971024, 0.9296362899596082, 'GO-RIDE'),\n",
       "  Text(0.22368059577099475, 1.077017637309405, 'Wildcraft'),\n",
       "  Text(-0.14108757414217765, 1.0909144313018668, 'Sparx'),\n",
       "  Text(-0.3342967210794684, 1.0479721858310536, 'aadi'),\n",
       "  Text(-0.4399405882926091, 1.0081925802012002, 'RapidBox'),\n",
       "  Text(-0.5363187005734116, 0.9603969238888926, 'aadi'),\n",
       "  Text(-0.6091738980430003, 0.9159187529159432, 'Nobelite'),\n",
       "  Text(-0.6819539066958783, 0.8630984122000396, 'aadi'),\n",
       "  Text(-0.7903825250066977, 0.7650460536229419, 'Bata'),\n",
       "  Text(-0.8826442502937117, 0.6564595398221064, 'WAAN'),\n",
       "  Text(-0.9442629168511602, 0.5642406790189266, 'Kraasa'),\n",
       "  Text(-1.0014566935225302, 0.4550653700282203, 'Kraasa'),\n",
       "  Text(-1.0635243980801368, 0.28091965877859654, 'Irya Fashion'),\n",
       "  Text(-1.096444252473208, 0.08837421127494188, 'Sparx'),\n",
       "  Text(-1.098145616651133, -0.06384516136641068, 'RapidBox'),\n",
       "  Text(-1.0614125139814112, -0.2887965982550011, 'ATOM'),\n",
       "  Text(-0.9557222824664567, -0.5446052871549324, 'HRX by Hrithik Roshan'),\n",
       "  Text(-0.8550730157231639, -0.6919899838741123, 'WAAN'),\n",
       "  Text(-0.7982462255594404, -0.7568374748782642, 'World Wear Footwear'),\n",
       "  Text(-0.7392639438309795, -0.8145482314457914, 'SFR'),\n",
       "  Text(-0.5913652525823135, -0.9275166510840961, 'JQR'),\n",
       "  Text(-0.41512289585084944, -1.0186623490344606, 'Airson'),\n",
       "  Text(-0.21496282207346612, -1.0787914465392334, 'HRX by Hrithik Roshan'),\n",
       "  Text(0.039901503361381, -1.0992760663407086, 'CAMPUS'),\n",
       "  Text(0.20526014869710943, -1.0806795414723278, 'Kraasa'),\n",
       "  Text(0.3914425950597056, -1.0279945013339924, 'JQR'),\n",
       "  Text(0.6289870966469929, -0.9024274110706004, 'PUMA'),\n",
       "  Text(0.7433719453492307, -0.8108009317136362, 'asian'),\n",
       "  Text(0.813800457870967, -0.7400870318881453, 'BTOM'),\n",
       "  Text(0.8938674269799414, -0.6410936148366003, 'Nobelite'),\n",
       "  Text(0.9595523846325434, -0.5378282450243753, 'Bata'),\n",
       "  Text(1.0219406408886398, -0.4069856588383879, 'Kraasa'),\n",
       "  Text(1.0764615903035628, -0.22634143368178225, 'CAMPUS'),\n",
       "  Text(1.098895383264346, -0.049284243326913925, 'Nobelite')])"
      ]
     },
     "execution_count": 12,
     "metadata": {},
     "output_type": "execute_result"
    },
    {
     "data": {
      "image/png": "[encoded data removed]",
      "text/plain": [
       "<Figure size 640x480 with 1 Axes>"
      ]
     },
     "metadata": {},
     "output_type": "display_data"
    }
   ],
   "source": [
    "plt.pie(changed_price,labels=xaxis1)"
   ]
  },
  {
   "cell_type": "markdown",
   "id": "304aebaf",
   "metadata": {},
   "source": [
    "## Seaborn"
   ]
  },
  {
   "cell_type": "code",
   "execution_count": 13,
   "id": "9c173373",
   "metadata": {},
   "outputs": [],
   "source": [
    "import seaborn as s"
   ]
  },
  {
   "cell_type": "code",
   "execution_count": 14,
   "id": "45d39fd0",
   "metadata": {},
   "outputs": [
    {
     "data": {
      "text/plain": [
       "['anagrams',\n",
       " 'anscombe',\n",
       " 'attention',\n",
       " 'brain_networks',\n",
       " 'car_crashes',\n",
       " 'diamonds',\n",
       " 'dots',\n",
       " 'dowjones',\n",
       " 'exercise',\n",
       " 'flights',\n",
       " 'fmri',\n",
       " 'geyser',\n",
       " 'glue',\n",
       " 'healthexp',\n",
       " 'iris',\n",
       " 'mpg',\n",
       " 'penguins',\n",
       " 'planets',\n",
       " 'seaice',\n",
       " 'taxis',\n",
       " 'tips',\n",
       " 'titanic']"
      ]
     },
     "execution_count": 14,
     "metadata": {},
     "output_type": "execute_result"
    }
   ],
   "source": [
    "s.get_dataset_names()"
   ]
  },
  {
   "cell_type": "code",
   "execution_count": 18,
   "id": "a3303dc9",
   "metadata": {},
   "outputs": [
    {
     "data": {
      "text/html": [
       "<div>\n",
       "<style scoped>\n",
       "    .dataframe tbody tr th:only-of-type {\n",
       "        vertical-align: middle;\n",
       "    }\n",
       "\n",
       "    .dataframe tbody tr th {\n",
       "        vertical-align: top;\n",
       "    }\n",
       "\n",
       "    .dataframe thead th {\n",
       "        text-align: right;\n",
       "    }\n",
       "</style>\n",
       "<table border=\"1\" class=\"dataframe\">\n",
       "  <thead>\n",
       "    <tr style=\"text-align: right;\">\n",
       "      <th></th>\n",
       "      <th>total_bill</th>\n",
       "      <th>tip</th>\n",
       "      <th>sex</th>\n",
       "      <th>smoker</th>\n",
       "      <th>day</th>\n",
       "      <th>time</th>\n",
       "      <th>size</th>\n",
       "    </tr>\n",
       "  </thead>\n",
       "  <tbody>\n",
       "    <tr>\n",
       "      <th>0</th>\n",
       "      <td>16.99</td>\n",
       "      <td>1.01</td>\n",
       "      <td>Female</td>\n",
       "      <td>No</td>\n",
       "      <td>Sun</td>\n",
       "      <td>Dinner</td>\n",
       "      <td>2</td>\n",
       "    </tr>\n",
       "    <tr>\n",
       "      <th>1</th>\n",
       "      <td>10.34</td>\n",
       "      <td>1.66</td>\n",
       "      <td>Male</td>\n",
       "      <td>No</td>\n",
       "      <td>Sun</td>\n",
       "      <td>Dinner</td>\n",
       "      <td>3</td>\n",
       "    </tr>\n",
       "    <tr>\n",
       "      <th>2</th>\n",
       "      <td>21.01</td>\n",
       "      <td>3.50</td>\n",
       "      <td>Male</td>\n",
       "      <td>No</td>\n",
       "      <td>Sun</td>\n",
       "      <td>Dinner</td>\n",
       "      <td>3</td>\n",
       "    </tr>\n",
       "    <tr>\n",
       "      <th>3</th>\n",
       "      <td>23.68</td>\n",
       "      <td>3.31</td>\n",
       "      <td>Male</td>\n",
       "      <td>No</td>\n",
       "      <td>Sun</td>\n",
       "      <td>Dinner</td>\n",
       "      <td>2</td>\n",
       "    </tr>\n",
       "    <tr>\n",
       "      <th>4</th>\n",
       "      <td>24.59</td>\n",
       "      <td>3.61</td>\n",
       "      <td>Female</td>\n",
       "      <td>No</td>\n",
       "      <td>Sun</td>\n",
       "      <td>Dinner</td>\n",
       "      <td>4</td>\n",
       "    </tr>\n",
       "    <tr>\n",
       "      <th>...</th>\n",
       "      <td>...</td>\n",
       "      <td>...</td>\n",
       "      <td>...</td>\n",
       "      <td>...</td>\n",
       "      <td>...</td>\n",
       "      <td>...</td>\n",
       "      <td>...</td>\n",
       "    </tr>\n",
       "    <tr>\n",
       "      <th>239</th>\n",
       "      <td>29.03</td>\n",
       "      <td>5.92</td>\n",
       "      <td>Male</td>\n",
       "      <td>No</td>\n",
       "      <td>Sat</td>\n",
       "      <td>Dinner</td>\n",
       "      <td>3</td>\n",
       "    </tr>\n",
       "    <tr>\n",
       "      <th>240</th>\n",
       "      <td>27.18</td>\n",
       "      <td>2.00</td>\n",
       "      <td>Female</td>\n",
       "      <td>Yes</td>\n",
       "      <td>Sat</td>\n",
       "      <td>Dinner</td>\n",
       "      <td>2</td>\n",
       "    </tr>\n",
       "    <tr>\n",
       "      <th>241</th>\n",
       "      <td>22.67</td>\n",
       "      <td>2.00</td>\n",
       "      <td>Male</td>\n",
       "      <td>Yes</td>\n",
       "      <td>Sat</td>\n",
       "      <td>Dinner</td>\n",
       "      <td>2</td>\n",
       "    </tr>\n",
       "    <tr>\n",
       "      <th>242</th>\n",
       "      <td>17.82</td>\n",
       "      <td>1.75</td>\n",
       "      <td>Male</td>\n",
       "      <td>No</td>\n",
       "      <td>Sat</td>\n",
       "      <td>Dinner</td>\n",
       "      <td>2</td>\n",
       "    </tr>\n",
       "    <tr>\n",
       "      <th>243</th>\n",
       "      <td>18.78</td>\n",
       "      <td>3.00</td>\n",
       "      <td>Female</td>\n",
       "      <td>No</td>\n",
       "      <td>Thur</td>\n",
       "      <td>Dinner</td>\n",
       "      <td>2</td>\n",
       "    </tr>\n",
       "  </tbody>\n",
       "</table>\n",
       "<p>244 rows × 7 columns</p>\n",
       "</div>"
      ],
      "text/plain": [
       "     total_bill   tip     sex smoker   day    time  size\n",
       "0         16.99  1.01  Female     No   Sun  Dinner     2\n",
       "1         10.34  1.66    Male     No   Sun  Dinner     3\n",
       "2         21.01  3.50    Male     No   Sun  Dinner     3\n",
       "3         23.68  3.31    Male     No   Sun  Dinner     2\n",
       "4         24.59  3.61  Female     No   Sun  Dinner     4\n",
       "..          ...   ...     ...    ...   ...     ...   ...\n",
       "239       29.03  5.92    Male     No   Sat  Dinner     3\n",
       "240       27.18  2.00  Female    Yes   Sat  Dinner     2\n",
       "241       22.67  2.00    Male    Yes   Sat  Dinner     2\n",
       "242       17.82  1.75    Male     No   Sat  Dinner     2\n",
       "243       18.78  3.00  Female     No  Thur  Dinner     2\n",
       "\n",
       "[244 rows x 7 columns]"
      ]
     },
     "execution_count": 18,
     "metadata": {},
     "output_type": "execute_result"
    }
   ],
   "source": [
    "tip=s.load_dataset('tips')\n",
    "tip"
   ]
  },
  {
   "cell_type": "code",
   "execution_count": 19,
   "id": "c99c1622",
   "metadata": {},
   "outputs": [
    {
     "data": {
      "text/plain": [
       "<Axes: ylabel='Count'>"
      ]
     },
     "execution_count": 19,
     "metadata": {},
     "output_type": "execute_result"
    },
    {
     "data": {
      "image/png": "[encoded data removed]",
      "text/plain": [
       "<Figure size 640x480 with 1 Axes>"
      ]
     },
     "metadata": {},
     "output_type": "display_data"
    }
   ],
   "source": [
    "s.histplot(tip)"
   ]
  },
  {
   "cell_type": "code",
   "execution_count": 16,
   "id": "4db7128f",
   "metadata": {},
   "outputs": [
    {
     "data": {
      "text/plain": [
       "array([0.58978415, 0.87600705, 0.01885569, 0.55160506, 0.91984585,\n",
       "       0.13808171, 0.17210605, 0.7152983 , 0.9455637 , 0.43559516,\n",
       "       0.8499265 , 0.3927021 , 0.64597345, 0.76033408, 0.65646314,\n",
       "       0.96865736, 0.20529752, 0.13133139, 0.40066826, 0.11730349,\n",
       "       0.56859505, 0.92604802, 0.01349683, 0.32063889, 0.66089064,\n",
       "       0.37620565, 0.94214659, 0.20114248, 0.4384737 , 0.08092799,\n",
       "       0.40667627, 0.26699193, 0.11411259, 0.79151772, 0.69910773,\n",
       "       0.29522851, 0.05925629, 0.62190522, 0.18862466, 0.26847957,\n",
       "       0.37248702, 0.47539699, 0.36576913, 0.09830202, 0.03748033,\n",
       "       0.74267961, 0.77969012, 0.04265207, 0.76787892, 0.30896685])"
      ]
     },
     "execution_count": 16,
     "metadata": {},
     "output_type": "execute_result"
    }
   ],
   "source": [
    "rand=np.random.random(50)\n",
    "rand"
   ]
  },
  {
   "cell_type": "code",
   "execution_count": 17,
   "id": "a8abbb28",
   "metadata": {},
   "outputs": [
    {
     "data": {
      "text/plain": [
       "<Axes: ylabel='Count'>"
      ]
     },
     "execution_count": 17,
     "metadata": {},
     "output_type": "execute_result"
    },
    {
     "data": {
      "image/png": "[encoded data removed]",
      "text/plain": [
       "<Figure size 640x480 with 1 Axes>"
      ]
     },
     "metadata": {},
     "output_type": "display_data"
    }
   ],
   "source": [
    "s.histplot(rand)"
   ]
  },
  {
   "cell_type": "code",
   "execution_count": null,
   "id": "33fe0a1e",
   "metadata": {},
   "outputs": [],
   "source": []
  }
 ],
 "metadata": {
  "kernelspec": {
   "display_name": "Python 3 (ipykernel)",
   "language": "python",
   "name": "python3"
  },
  "language_info": {
   "codemirror_mode": {
    "name": "ipython",
    "version": 3
   },
   "file_extension": ".py",
   "mimetype": "text/x-python",
   "name": "python",
   "nbconvert_exporter": "python",
   "pygments_lexer": "ipython3",
   "version": "3.9.17"
  }
 },
 "nbformat": 4,
 "nbformat_minor": 5
}
